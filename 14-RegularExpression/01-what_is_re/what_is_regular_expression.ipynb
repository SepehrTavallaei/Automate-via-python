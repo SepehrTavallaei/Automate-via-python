{
 "cells": [
  {
   "cell_type": "code",
   "execution_count": null,
   "id": "c9394acb-47fb-4b65-a4e9-0a4dd8245ee2",
   "metadata": {},
   "outputs": [],
   "source": [
    "# regular expressions are set of special characters that we write in python for exampl : a-z any lower case letter\n",
    "# by giving this special characters we search for some wanted text patterns\n",
    "# lets say we have some files in our current directory and we want to process those files\n",
    "# using pathlib and the method .iterdir() give us all the file names in a current directory"
   ]
  },
  {
   "cell_type": "code",
   "execution_count": null,
   "id": "89e96c70-7905-4660-86be-847b037f1a43",
   "metadata": {},
   "outputs": [],
   "source": [
    "# the file names:\n",
    "file_names = ['nov-12.txt','november-14.txt','Oct-17.txt','Nov-22.txt']\n",
    "# what if our task was to follow only a particular name pattern of files?\n",
    "# for examply only the name of file from first of November to 20th of November.\n",
    "# also keep in mind that this is houst a list of string we could have only one long string and we want to filter out the Pattern that we are looking for"
   ]
  },
  {
   "cell_type": "code",
   "execution_count": 1,
   "id": "9f7add32-760b-433a-87a1-9183f86d40aa",
   "metadata": {},
   "outputs": [],
   "source": [
    "# this is a simple string that we want to use regular expressions:\n",
    "text = 'Hi there you here example@example.com some more text here and there another@example.de'"
   ]
  },
  {
   "cell_type": "code",
   "execution_count": 3,
   "id": "27d53c19-88a1-4c74-a072-4b77cdab33bc",
   "metadata": {},
   "outputs": [
    {
     "data": {
      "text/plain": [
       "['example@example.com', 'another@example.de']"
      ]
     },
     "execution_count": 3,
     "metadata": {},
     "output_type": "execute_result"
    }
   ],
   "source": [
    "# first you import the library\n",
    "import re\n",
    "# then we creat a pattern object:\n",
    "pattern = re.compile(\"[a-z]+@[a-z]+.[a-z]+\")\n",
    "matches = pattern.findall(text)\n",
    "matches"
   ]
  },
  {
   "cell_type": "code",
   "execution_count": null,
   "id": "a7c91685",
   "metadata": {},
   "outputs": [],
   "source": []
  }
 ],
 "metadata": {
  "kernelspec": {
   "display_name": "Python 3 (ipykernel)",
   "language": "python",
   "name": "python3"
  },
  "language_info": {
   "codemirror_mode": {
    "name": "ipython",
    "version": 3
   },
   "file_extension": ".py",
   "mimetype": "text/x-python",
   "name": "python",
   "nbconvert_exporter": "python",
   "pygments_lexer": "ipython3",
   "version": "3.12.0"
  }
 },
 "nbformat": 4,
 "nbformat_minor": 5
}
