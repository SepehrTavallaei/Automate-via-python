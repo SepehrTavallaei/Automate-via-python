{
 "cells": [
  {
   "cell_type": "code",
   "execution_count": 3,
   "metadata": {},
   "outputs": [
    {
     "data": {
      "text/plain": [
       "'912.131.120.111 912.131.134.000 912.131.129.129'"
      ]
     },
     "execution_count": 3,
     "metadata": {},
     "output_type": "execute_result"
    }
   ],
   "source": [
    "with open('/Users/sepehr/Desktop/notes/PracticalLearningOfPython/14-RegularExpression/04-Extract-Ip-Address/006 ips.txt') as file:\n",
    "    content = file.read().replace('\\n',' ')\n",
    "\n",
    "content"
   ]
  },
  {
   "cell_type": "code",
   "execution_count": 5,
   "metadata": {},
   "outputs": [
    {
     "name": "stderr",
     "output_type": "stream",
     "text": [
      "<>:3: SyntaxWarning: invalid escape sequence '\\.'\n",
      "<>:3: SyntaxWarning: invalid escape sequence '\\.'\n",
      "/var/folders/14/hqn4jh6x1jn1c92bdf_j2dtr0000gn/T/ipykernel_84586/1337701072.py:3: SyntaxWarning: invalid escape sequence '\\.'\n",
      "  pattern = re.compile(\"[0-9]{3}\\.[0-9]{3}\\.[0-9][^ ]\")\n"
     ]
    },
    {
     "data": {
      "text/plain": [
       "['912.131.12', '912.131.13', '912.131.12']"
      ]
     },
     "execution_count": 5,
     "metadata": {},
     "output_type": "execute_result"
    }
   ],
   "source": [
    "import re\n",
    "# let's build the pattern object, we want three numbers from 0 to 9.\n",
    "pattern = re.compile(\"[0-9]{3}\\.[0-9]{3}\\.[0-9][^ ]\")\n",
    "matches = pattern.findall(content)\n",
    "\n",
    "matches"
   ]
  }
 ],
 "metadata": {
  "kernelspec": {
   "display_name": "Python 3",
   "language": "python",
   "name": "python3"
  },
  "language_info": {
   "codemirror_mode": {
    "name": "ipython",
    "version": 3
   },
   "file_extension": ".py",
   "mimetype": "text/x-python",
   "name": "python",
   "nbconvert_exporter": "python",
   "pygments_lexer": "ipython3",
   "version": "3.12.0"
  }
 },
 "nbformat": 4,
 "nbformat_minor": 2
}
