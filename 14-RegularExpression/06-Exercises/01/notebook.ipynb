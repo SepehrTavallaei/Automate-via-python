{
 "cells": [
  {
   "cell_type": "code",
   "execution_count": 4,
   "metadata": {},
   "outputs": [
    {
     "data": {
      "text/plain": [
       "['mrs Anna Cloudy, Delhi, 2dogs 1fish bathlover@example.com',\n",
       " 'mrs Alma Stills Delhi 01231981 1 dog',\n",
       " 'mr Sen Kumar Delhi 3456 ants']"
      ]
     },
     "execution_count": 4,
     "metadata": {},
     "output_type": "execute_result"
    }
   ],
   "source": [
    "# Write a regular expression that returns all the list items that contain the word Delhi. The list is stored in the data variable:\n",
    "\n",
    "\n",
    "data=[\n",
    "    \"mr Jim Cloudy, Texas, 01091231, 1 dog 1 cat, jim.cloudy@example.com\", \n",
    "    \"mrs Anna Cloudy, Delhi, 2dogs 1fish bathlover@example.com\",\n",
    "    \"Mrs. Sarah Prost, Baghdad, +4327629101, 1 hamster, 2 crocodiles\",\n",
    "    \"Ms Beta Palm Ontario 08234211 12 cats, beta@example.com\",\n",
    "    \"mr. Dog Bells texas 09234211 3 honey badgers alta_bells.example.com\",\n",
    "    \"ms. Claudia More, Gujarat, 012311, 3 dogs\",\n",
    "    \"mrs Alma Stills Delhi 01231981 1 dog\",\n",
    "    \"mr Sen Kumar Delhi 3456 ants\"\n",
    "]\n",
    "\n",
    "import re\n",
    "\n",
    "pattern = re.compile(\".+Delhi.+\")\n",
    "matches = [item for item in data if pattern.findall(item)]\n",
    "matches"
   ]
  }
 ],
 "metadata": {
  "kernelspec": {
   "display_name": "Python 3",
   "language": "python",
   "name": "python3"
  },
  "language_info": {
   "codemirror_mode": {
    "name": "ipython",
    "version": 3
   },
   "file_extension": ".py",
   "mimetype": "text/x-python",
   "name": "python",
   "nbconvert_exporter": "python",
   "pygments_lexer": "ipython3",
   "version": "3.12.0"
  }
 },
 "nbformat": 4,
 "nbformat_minor": 2
}
