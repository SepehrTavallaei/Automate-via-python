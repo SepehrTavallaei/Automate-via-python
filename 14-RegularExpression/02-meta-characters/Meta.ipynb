{
 "cells": [
  {
   "cell_type": "code",
   "execution_count": null,
   "metadata": {},
   "outputs": [],
   "source": [
    "# Meta characters\n",
    "\n",
    "# .        Matches any single character\n",
    "# \\        Escapes one of the meta characters to treat it as a regular character\n",
    "# [...]    Matches a single character or a range that is contained within brackets. Order does not matter but without brackets order does matter\n",
    "# +        Matches the preeceding element one or more times\n",
    "# ?        Matches the preeceding element zero or one time\n",
    "# *        Matches the preeceding element zero or more times\n",
    "# {m,n}    Matches the preeceding element at least m and not more than n times\n",
    "# ^        Matches the beginning of a line or string\n",
    "# $        Matches the end of a line or string\n",
    "# [^...]   Matches a single character or a range that is not contained within the brackets\n",
    "# ?:...|...\"Or\" operator\n",
    "# ()       Matches an optional expression"
   ]
  },
  {
   "cell_type": "code",
   "execution_count": null,
   "metadata": {},
   "outputs": [],
   "source": []
  }
 ],
 "metadata": {
  "language_info": {
   "name": "python"
  }
 },
 "nbformat": 4,
 "nbformat_minor": 2
}
