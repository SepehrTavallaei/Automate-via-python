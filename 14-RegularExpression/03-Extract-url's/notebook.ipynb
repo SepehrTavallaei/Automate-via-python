{
 "cells": [
  {
   "cell_type": "code",
   "execution_count": 8,
   "metadata": {},
   "outputs": [
    {
     "name": "stdout",
     "output_type": "stream",
     "text": [
      "http://google.com https://example.com http://www.wikipedia.com http://pythonhow.com https://python.org\n"
     ]
    }
   ],
   "source": [
    "# first we have to open the text file\n",
    "with open(\"/Users/sepehr/Desktop/notes/PracticalLearningOfPython/14-RegularExpression/03-Extract-url's/005 urls.txt\") as file:\n",
    "    # in here I replace the content's many lines with a space so the content doesn't have many line\n",
    "    content = file.read().replace('\\n',\" \")\n",
    "print(content)\n",
    "\n"
   ]
  },
  {
   "cell_type": "code",
   "execution_count": 9,
   "metadata": {},
   "outputs": [
    {
     "name": "stderr",
     "output_type": "stream",
     "text": [
      "<>:7: SyntaxWarning: invalid escape sequence '\\.'\n",
      "<>:7: SyntaxWarning: invalid escape sequence '\\.'\n",
      "/var/folders/14/hqn4jh6x1jn1c92bdf_j2dtr0000gn/T/ipykernel_84392/1824996460.py:7: SyntaxWarning: invalid escape sequence '\\.'\n",
      "  pattern = re.compile(\"https?://(?:www.)?[^ ]+\\.com\")\n"
     ]
    },
    {
     "data": {
      "text/plain": [
       "['http://google.com',\n",
       " 'https://example.com',\n",
       " 'http://www.wikipedia.com',\n",
       " 'http://pythonhow.com']"
      ]
     },
     "execution_count": 9,
     "metadata": {},
     "output_type": "execute_result"
    }
   ],
   "source": [
    "import re\n",
    "# now we want to creat the object pattern, well all the urls have that http but some of them has the s at the end so it means zero or one time\n",
    "# and then we always we have two slashes but then sometimes we have www. and some times we dont. so we have to use optional expressions for that and in the paranteses we have to put an ? mark so that we say what is optional.\n",
    "# then we include the web site name we could have  anything for the website name but spaces so we use ^ meta character to prevent capturing the urls with spaces\n",
    "# and then everything has a .com part (in here we only want the urls that end with .com ) but rememmebr that . is a meta character so inorder for us to prevent capturing it as meta charater we use scape sequence.\n",
    "\n",
    "pattern = re.compile(\"https?://(?:www.)?[^ ]+\\.com\")\n",
    "matches = pattern.findall(content)\n",
    "matches"
   ]
  }
 ],
 "metadata": {
  "kernelspec": {
   "display_name": "Python 3",
   "language": "python",
   "name": "python3"
  },
  "language_info": {
   "codemirror_mode": {
    "name": "ipython",
    "version": 3
   },
   "file_extension": ".py",
   "mimetype": "text/x-python",
   "name": "python",
   "nbconvert_exporter": "python",
   "pygments_lexer": "ipython3",
   "version": "3.12.0"
  }
 },
 "nbformat": 4,
 "nbformat_minor": 2
}
