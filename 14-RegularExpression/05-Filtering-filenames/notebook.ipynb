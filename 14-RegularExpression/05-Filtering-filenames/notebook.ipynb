{
 "cells": [
  {
   "cell_type": "code",
   "execution_count": 14,
   "metadata": {},
   "outputs": [
    {
     "data": {
      "text/plain": [
       "['billy_Nov-13.txt',\n",
       " 'Nov-12.txt',\n",
       " 'november-14.txt',\n",
       " 'November-24.txt',\n",
       " 'Nov-22.txt',\n",
       " 'nov-20.txt',\n",
       " 'Oct-17.txt']"
      ]
     },
     "execution_count": 14,
     "metadata": {},
     "output_type": "execute_result"
    }
   ],
   "source": [
    "# the task is to filterout the files that start from 1st of november till the 20th of it, but as you see the files names are not very much alike!\n",
    "\n",
    "from pathlib import Path\n",
    "\n",
    "root_dir = Path('/Users/sepehr/Desktop/notes/PracticalLearningOfPython/14-RegularExpression/05-Filtering-filenames/files 2')\n",
    "filenames = root_dir.iterdir()\n",
    "filename_str = [filename.name for filename in filenames]\n",
    "filename_str"
   ]
  },
  {
   "cell_type": "code",
   "execution_count": 16,
   "metadata": {},
   "outputs": [
    {
     "name": "stderr",
     "output_type": "stream",
     "text": [
      "<>:5: SyntaxWarning: invalid escape sequence '\\.'\n",
      "<>:5: SyntaxWarning: invalid escape sequence '\\.'\n",
      "/var/folders/14/hqn4jh6x1jn1c92bdf_j2dtr0000gn/T/ipykernel_1395/843632464.py:5: SyntaxWarning: invalid escape sequence '\\.'\n",
      "  pattern = re.compile(\"nov[a-z]*-(?:[1-9]|1[0-9]|20)\\.txt\",re.IGNORECASE)\n"
     ]
    },
    {
     "data": {
      "text/plain": [
       "['billy_Nov-13.txt', 'Nov-12.txt', 'november-14.txt', 'nov-20.txt']"
      ]
     },
     "execution_count": 16,
     "metadata": {},
     "output_type": "execute_result"
    }
   ],
   "source": [
    "import re\n",
    "# everyfile start from nov, but some of them start with the capital letter for that case we have to use a flage that ifnore case\n",
    "# the next is that maybe we complety include the month name so [a-z]+\n",
    "# then it is the date that the file is created, it is a number and it should be between 1 to 20 so we devide it into 1 to 9 and 1 followed by 0 to 9 or hust 20\n",
    "pattern = re.compile(\"nov[a-z]*-(?:[1-9]|1[0-9]|20)\\.txt\",re.IGNORECASE)\n",
    "matches = [filename for filename in filename_str if pattern.findall(filename)]\n",
    "matches"
   ]
  }
 ],
 "metadata": {
  "kernelspec": {
   "display_name": "Python 3",
   "language": "python",
   "name": "python3"
  },
  "language_info": {
   "codemirror_mode": {
    "name": "ipython",
    "version": 3
   },
   "file_extension": ".py",
   "mimetype": "text/x-python",
   "name": "python",
   "nbconvert_exporter": "python",
   "pygments_lexer": "ipython3",
   "version": "3.12.0"
  }
 },
 "nbformat": 4,
 "nbformat_minor": 2
}
